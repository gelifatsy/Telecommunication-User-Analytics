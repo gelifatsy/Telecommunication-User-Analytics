{
 "cells": [
  {
   "cell_type": "markdown",
   "metadata": {},
   "source": [
    "User Engagement analysis\n"
   ]
  },
  {
   "cell_type": "code",
   "execution_count": 25,
   "metadata": {},
   "outputs": [],
   "source": [
    "import pandas as pd\n",
    "from dbconnection import create_database_connection, read_data_into_dataframe\n"
   ]
  },
  {
   "cell_type": "code",
   "execution_count": 26,
   "metadata": {},
   "outputs": [],
   "source": [
    "engine = create_database_connection()\n",
    "df=read_data_into_dataframe(engine, \"xdr_data\")\n"
   ]
  },
  {
   "cell_type": "code",
   "execution_count": 27,
   "metadata": {},
   "outputs": [],
   "source": [
    "#data preparation\n",
    "numeric_data= df.loc[:, df.dtypes != 'object']\n",
    "non_numeric_columns = df.select_dtypes(exclude=['number']).columns\n",
    "cleaned_data = numeric_data.fillna(numeric_data.mean())\n",
    "\n"
   ]
  },
  {
   "cell_type": "markdown",
   "metadata": {},
   "source": []
  },
  {
   "cell_type": "code",
   "execution_count": 28,
   "metadata": {},
   "outputs": [
    {
     "data": {
      "text/html": [
       "<div>\n",
       "<style scoped>\n",
       "    .dataframe tbody tr th:only-of-type {\n",
       "        vertical-align: middle;\n",
       "    }\n",
       "\n",
       "    .dataframe tbody tr th {\n",
       "        vertical-align: top;\n",
       "    }\n",
       "\n",
       "    .dataframe thead th {\n",
       "        text-align: right;\n",
       "    }\n",
       "</style>\n",
       "<table border=\"1\" class=\"dataframe\">\n",
       "  <thead>\n",
       "    <tr style=\"text-align: right;\">\n",
       "      <th></th>\n",
       "      <th>MSISDN/Number</th>\n",
       "      <th>session_frequency</th>\n",
       "    </tr>\n",
       "  </thead>\n",
       "  <tbody>\n",
       "    <tr>\n",
       "      <th>0</th>\n",
       "      <td>3.362632e+10</td>\n",
       "      <td>18</td>\n",
       "    </tr>\n",
       "    <tr>\n",
       "      <th>1</th>\n",
       "      <td>3.361489e+10</td>\n",
       "      <td>17</td>\n",
       "    </tr>\n",
       "    <tr>\n",
       "      <th>2</th>\n",
       "      <td>3.362578e+10</td>\n",
       "      <td>17</td>\n",
       "    </tr>\n",
       "    <tr>\n",
       "      <th>3</th>\n",
       "      <td>3.365973e+10</td>\n",
       "      <td>16</td>\n",
       "    </tr>\n",
       "    <tr>\n",
       "      <th>4</th>\n",
       "      <td>3.376054e+10</td>\n",
       "      <td>15</td>\n",
       "    </tr>\n",
       "    <tr>\n",
       "      <th>5</th>\n",
       "      <td>3.367588e+10</td>\n",
       "      <td>15</td>\n",
       "    </tr>\n",
       "    <tr>\n",
       "      <th>6</th>\n",
       "      <td>3.366716e+10</td>\n",
       "      <td>13</td>\n",
       "    </tr>\n",
       "    <tr>\n",
       "      <th>7</th>\n",
       "      <td>3.360313e+10</td>\n",
       "      <td>12</td>\n",
       "    </tr>\n",
       "    <tr>\n",
       "      <th>8</th>\n",
       "      <td>3.378632e+10</td>\n",
       "      <td>12</td>\n",
       "    </tr>\n",
       "    <tr>\n",
       "      <th>9</th>\n",
       "      <td>3.362708e+10</td>\n",
       "      <td>12</td>\n",
       "    </tr>\n",
       "  </tbody>\n",
       "</table>\n",
       "</div>"
      ],
      "text/plain": [
       "   MSISDN/Number  session_frequency\n",
       "0   3.362632e+10                 18\n",
       "1   3.361489e+10                 17\n",
       "2   3.362578e+10                 17\n",
       "3   3.365973e+10                 16\n",
       "4   3.376054e+10                 15\n",
       "5   3.367588e+10                 15\n",
       "6   3.366716e+10                 13\n",
       "7   3.360313e+10                 12\n",
       "8   3.378632e+10                 12\n",
       "9   3.362708e+10                 12"
      ]
     },
     "execution_count": 28,
     "metadata": {},
     "output_type": "execute_result"
    }
   ],
   "source": [
    "#Track the user’s engagement using the following engagement metrics\n",
    "session_frequency = df['MSISDN/Number'].value_counts()\n",
    "session_frequency = session_frequency .reset_index()\n",
    "session_frequency.columns = ['MSISDN/Number', 'session_frequency']\n",
    "session_frequency.head(10)"
   ]
  },
  {
   "cell_type": "code",
   "execution_count": 29,
   "metadata": {},
   "outputs": [
    {
     "data": {
      "text/html": [
       "<div>\n",
       "<style scoped>\n",
       "    .dataframe tbody tr th:only-of-type {\n",
       "        vertical-align: middle;\n",
       "    }\n",
       "\n",
       "    .dataframe tbody tr th {\n",
       "        vertical-align: top;\n",
       "    }\n",
       "\n",
       "    .dataframe thead th {\n",
       "        text-align: right;\n",
       "    }\n",
       "</style>\n",
       "<table border=\"1\" class=\"dataframe\">\n",
       "  <thead>\n",
       "    <tr style=\"text-align: right;\">\n",
       "      <th></th>\n",
       "      <th>MSISDN/Number</th>\n",
       "      <th>duration</th>\n",
       "    </tr>\n",
       "  </thead>\n",
       "  <tbody>\n",
       "    <tr>\n",
       "      <th>13180</th>\n",
       "      <td>3.362578e+10</td>\n",
       "      <td>214 days 17:49:00</td>\n",
       "    </tr>\n",
       "    <tr>\n",
       "      <th>6437</th>\n",
       "      <td>3.361489e+10</td>\n",
       "      <td>115 days 08:40:00</td>\n",
       "    </tr>\n",
       "    <tr>\n",
       "      <th>92923</th>\n",
       "      <td>3.376054e+10</td>\n",
       "      <td>107 days 09:41:00</td>\n",
       "    </tr>\n",
       "    <tr>\n",
       "      <th>13526</th>\n",
       "      <td>3.362632e+10</td>\n",
       "      <td>101 days 18:18:00</td>\n",
       "    </tr>\n",
       "    <tr>\n",
       "      <th>65118</th>\n",
       "      <td>3.366716e+10</td>\n",
       "      <td>101 days 05:03:00</td>\n",
       "    </tr>\n",
       "    <tr>\n",
       "      <th>...</th>\n",
       "      <td>...</td>\n",
       "      <td>...</td>\n",
       "    </tr>\n",
       "    <tr>\n",
       "      <th>24741</th>\n",
       "      <td>3.365043e+10</td>\n",
       "      <td>0 days 02:01:00</td>\n",
       "    </tr>\n",
       "    <tr>\n",
       "      <th>85146</th>\n",
       "      <td>3.369839e+10</td>\n",
       "      <td>0 days 02:01:00</td>\n",
       "    </tr>\n",
       "    <tr>\n",
       "      <th>35287</th>\n",
       "      <td>3.365933e+10</td>\n",
       "      <td>0 days 02:00:00</td>\n",
       "    </tr>\n",
       "    <tr>\n",
       "      <th>60767</th>\n",
       "      <td>3.366566e+10</td>\n",
       "      <td>0 days 01:59:00</td>\n",
       "    </tr>\n",
       "    <tr>\n",
       "      <th>99736</th>\n",
       "      <td>3.376351e+10</td>\n",
       "      <td>0 days 01:59:00</td>\n",
       "    </tr>\n",
       "  </tbody>\n",
       "</table>\n",
       "<p>106856 rows × 2 columns</p>\n",
       "</div>"
      ],
      "text/plain": [
       "       MSISDN/Number          duration\n",
       "13180   3.362578e+10 214 days 17:49:00\n",
       "6437    3.361489e+10 115 days 08:40:00\n",
       "92923   3.376054e+10 107 days 09:41:00\n",
       "13526   3.362632e+10 101 days 18:18:00\n",
       "65118   3.366716e+10 101 days 05:03:00\n",
       "...              ...               ...\n",
       "24741   3.365043e+10   0 days 02:01:00\n",
       "85146   3.369839e+10   0 days 02:01:00\n",
       "35287   3.365933e+10   0 days 02:00:00\n",
       "60767   3.366566e+10   0 days 01:59:00\n",
       "99736   3.376351e+10   0 days 01:59:00\n",
       "\n",
       "[106856 rows x 2 columns]"
      ]
     },
     "execution_count": 29,
     "metadata": {},
     "output_type": "execute_result"
    }
   ],
   "source": [
    "# sessions  session duration\n",
    "\n",
    "df['start_time'] = pd.to_datetime(df['Start'])\n",
    "df['end_time'] = pd.to_datetime(df['End'])\n",
    "df['duration'] = df['end_time'] - df['start_time']\n",
    "\n",
    "# Group by customer_id and sum the session durations\n",
    "total_session_duration = df.groupby('MSISDN/Number')['duration'].sum().reset_index().sort_values(by='duration', ascending=False)\n",
    "total_session_duration"
   ]
  },
  {
   "cell_type": "code",
   "execution_count": 30,
   "metadata": {},
   "outputs": [
    {
     "data": {
      "text/html": [
       "<div>\n",
       "<style scoped>\n",
       "    .dataframe tbody tr th:only-of-type {\n",
       "        vertical-align: middle;\n",
       "    }\n",
       "\n",
       "    .dataframe tbody tr th {\n",
       "        vertical-align: top;\n",
       "    }\n",
       "\n",
       "    .dataframe thead th {\n",
       "        text-align: right;\n",
       "    }\n",
       "</style>\n",
       "<table border=\"1\" class=\"dataframe\">\n",
       "  <thead>\n",
       "    <tr style=\"text-align: right;\">\n",
       "      <th></th>\n",
       "      <th>MSISDN/Number</th>\n",
       "      <th>Total Data Usage</th>\n",
       "    </tr>\n",
       "  </thead>\n",
       "  <tbody>\n",
       "    <tr>\n",
       "      <th>6437</th>\n",
       "      <td>3.361489e+10</td>\n",
       "      <td>8.846226e+09</td>\n",
       "    </tr>\n",
       "    <tr>\n",
       "      <th>92923</th>\n",
       "      <td>3.376054e+10</td>\n",
       "      <td>8.514774e+09</td>\n",
       "    </tr>\n",
       "    <tr>\n",
       "      <th>13180</th>\n",
       "      <td>3.362578e+10</td>\n",
       "      <td>8.499621e+09</td>\n",
       "    </tr>\n",
       "    <tr>\n",
       "      <th>13526</th>\n",
       "      <td>3.362632e+10</td>\n",
       "      <td>7.971167e+09</td>\n",
       "    </tr>\n",
       "    <tr>\n",
       "      <th>76363</th>\n",
       "      <td>3.367588e+10</td>\n",
       "      <td>7.891111e+09</td>\n",
       "    </tr>\n",
       "    <tr>\n",
       "      <th>...</th>\n",
       "      <td>...</td>\n",
       "      <td>...</td>\n",
       "    </tr>\n",
       "    <tr>\n",
       "      <th>76161</th>\n",
       "      <td>3.367548e+10</td>\n",
       "      <td>3.802236e+07</td>\n",
       "    </tr>\n",
       "    <tr>\n",
       "      <th>104769</th>\n",
       "      <td>3.378251e+10</td>\n",
       "      <td>3.792924e+07</td>\n",
       "    </tr>\n",
       "    <tr>\n",
       "      <th>63657</th>\n",
       "      <td>3.366668e+10</td>\n",
       "      <td>3.399962e+07</td>\n",
       "    </tr>\n",
       "    <tr>\n",
       "      <th>43677</th>\n",
       "      <td>3.366132e+10</td>\n",
       "      <td>3.357584e+07</td>\n",
       "    </tr>\n",
       "    <tr>\n",
       "      <th>34696</th>\n",
       "      <td>3.365920e+10</td>\n",
       "      <td>3.324901e+07</td>\n",
       "    </tr>\n",
       "  </tbody>\n",
       "</table>\n",
       "<p>106856 rows × 2 columns</p>\n",
       "</div>"
      ],
      "text/plain": [
       "        MSISDN/Number  Total Data Usage\n",
       "6437     3.361489e+10      8.846226e+09\n",
       "92923    3.376054e+10      8.514774e+09\n",
       "13180    3.362578e+10      8.499621e+09\n",
       "13526    3.362632e+10      7.971167e+09\n",
       "76363    3.367588e+10      7.891111e+09\n",
       "...               ...               ...\n",
       "76161    3.367548e+10      3.802236e+07\n",
       "104769   3.378251e+10      3.792924e+07\n",
       "63657    3.366668e+10      3.399962e+07\n",
       "43677    3.366132e+10      3.357584e+07\n",
       "34696    3.365920e+10      3.324901e+07\n",
       "\n",
       "[106856 rows x 2 columns]"
      ]
     },
     "execution_count": 30,
     "metadata": {},
     "output_type": "execute_result"
    }
   ],
   "source": [
    "# total data usage (DL and UL)\n",
    "\n",
    "df['Total Data Usage'] = df['Total UL (Bytes)'] + df['Total DL (Bytes)']\n",
    "\n",
    "# Group by customer_id and sum the session durations\n",
    "total_data_usage = df.groupby('MSISDN/Number')['Total Data Usage'].sum().reset_index().sort_values(by='Total Data Usage', ascending=False)\n",
    "total_data_usage"
   ]
  },
  {
   "cell_type": "markdown",
   "metadata": {},
   "source": [
    "Aggregate the above metrics per customer id (MSISDN)"
   ]
  },
  {
   "cell_type": "code",
   "execution_count": 48,
   "metadata": {},
   "outputs": [
    {
     "data": {
      "text/html": [
       "<div>\n",
       "<style scoped>\n",
       "    .dataframe tbody tr th:only-of-type {\n",
       "        vertical-align: middle;\n",
       "    }\n",
       "\n",
       "    .dataframe tbody tr th {\n",
       "        vertical-align: top;\n",
       "    }\n",
       "\n",
       "    .dataframe thead th {\n",
       "        text-align: right;\n",
       "    }\n",
       "</style>\n",
       "<table border=\"1\" class=\"dataframe\">\n",
       "  <thead>\n",
       "    <tr style=\"text-align: right;\">\n",
       "      <th></th>\n",
       "      <th>MSISDN/Number</th>\n",
       "      <th>session_frequency</th>\n",
       "      <th>duration</th>\n",
       "      <th>Total Data Usage</th>\n",
       "    </tr>\n",
       "  </thead>\n",
       "  <tbody>\n",
       "    <tr>\n",
       "      <th>0</th>\n",
       "      <td>3.362632e+10</td>\n",
       "      <td>18</td>\n",
       "      <td>101 days 18:18:00</td>\n",
       "      <td>7.971167e+09</td>\n",
       "    </tr>\n",
       "    <tr>\n",
       "      <th>1</th>\n",
       "      <td>3.361489e+10</td>\n",
       "      <td>17</td>\n",
       "      <td>115 days 08:40:00</td>\n",
       "      <td>8.846226e+09</td>\n",
       "    </tr>\n",
       "    <tr>\n",
       "      <th>2</th>\n",
       "      <td>3.362578e+10</td>\n",
       "      <td>17</td>\n",
       "      <td>214 days 17:49:00</td>\n",
       "      <td>8.499621e+09</td>\n",
       "    </tr>\n",
       "    <tr>\n",
       "      <th>3</th>\n",
       "      <td>3.365973e+10</td>\n",
       "      <td>16</td>\n",
       "      <td>46 days 16:54:00</td>\n",
       "      <td>7.705863e+09</td>\n",
       "    </tr>\n",
       "    <tr>\n",
       "      <th>4</th>\n",
       "      <td>3.376054e+10</td>\n",
       "      <td>15</td>\n",
       "      <td>107 days 09:41:00</td>\n",
       "      <td>8.514774e+09</td>\n",
       "    </tr>\n",
       "  </tbody>\n",
       "</table>\n",
       "</div>"
      ],
      "text/plain": [
       "   MSISDN/Number  session_frequency          duration  Total Data Usage\n",
       "0   3.362632e+10                 18 101 days 18:18:00      7.971167e+09\n",
       "1   3.361489e+10                 17 115 days 08:40:00      8.846226e+09\n",
       "2   3.362578e+10                 17 214 days 17:49:00      8.499621e+09\n",
       "3   3.365973e+10                 16  46 days 16:54:00      7.705863e+09\n",
       "4   3.376054e+10                 15 107 days 09:41:00      8.514774e+09"
      ]
     },
     "execution_count": 48,
     "metadata": {},
     "output_type": "execute_result"
    }
   ],
   "source": [
    "import pandas as pd\n",
    "#Merging the 3 stated engagement metrics in one data frame\n",
    "\n",
    "merged_df = pd.merge(session_frequency, total_session_duration,  on='MSISDN/Number',how=\"outer\")\n",
    "\n",
    "# Merge the result with total_data_usage on 'MSISDN/Number'\n",
    "merged_df = pd.merge(merged_df, total_data_usage, on='MSISDN/Number')\n",
    "\n",
    "merged_df.head()\n"
   ]
  },
  {
   "cell_type": "code",
   "execution_count": 49,
   "metadata": {},
   "outputs": [
    {
     "name": "stderr",
     "output_type": "stream",
     "text": [
      "c:\\Users\\hp\\.conda\\envs\\your_env_name\\Lib\\site-packages\\sklearn\\cluster\\_kmeans.py:1416: FutureWarning: The default value of `n_init` will change from 10 to 'auto' in 1.4. Set the value of `n_init` explicitly to suppress the warning\n",
      "  super()._check_params_vs_input(X, default_n_init=10)\n"
     ]
    },
    {
     "name": "stdout",
     "output_type": "stream",
     "text": [
      "        MSISDN/Number  session_frequency    duration  Total Data Usage  \\\n",
      "0        3.362632e+10                 18   8792280.0      7.971167e+09   \n",
      "1        3.361489e+10                 17   9967200.0      8.846226e+09   \n",
      "2        3.362578e+10                 17  18553740.0      8.499621e+09   \n",
      "3        3.365973e+10                 16   4035240.0      7.705863e+09   \n",
      "4        3.376054e+10                 15   9279660.0      8.514774e+09   \n",
      "...               ...                ...         ...               ...   \n",
      "106851   3.366068e+10                  1     56880.0      6.463499e+08   \n",
      "106852   3.364517e+10                  1     97560.0      6.347028e+08   \n",
      "106853   3.365821e+10                  1     93180.0      1.975654e+08   \n",
      "106854   3.366338e+10                  1     95580.0      7.343901e+08   \n",
      "106855   3.361962e+10                  1     97920.0      4.015220e+08   \n",
      "\n",
      "        Cluster  \n",
      "0             2  \n",
      "1             2  \n",
      "2             2  \n",
      "3             2  \n",
      "4             2  \n",
      "...         ...  \n",
      "106851        0  \n",
      "106852        0  \n",
      "106853        0  \n",
      "106854        0  \n",
      "106855        0  \n",
      "\n",
      "[106856 rows x 5 columns]\n"
     ]
    }
   ],
   "source": [
    "import matplotlib.pyplot as plt\n",
    "import seaborn as sns\n",
    "from sklearn.preprocessing import StandardScaler,MinMaxScaler\n",
    "from sklearn.cluster import KMeans\n",
    "\n",
    "\n",
    "# Select the engagement metrics for clustering\n",
    "\n",
    "\n",
    "merged_df['duration'] = merged_df['duration'].dt.total_seconds()\n",
    "engagement_metrics = merged_df[['session_frequency', 'duration', 'Total Data Usage']]\n",
    "\n",
    "# Normalize the engagement metrics using MinMax Scaler\n",
    "scaler = MinMaxScaler()\n",
    "normalized_metrics = scaler.fit_transform(engagement_metrics)\n",
    "\n",
    "# Run k-means clustering with k=3\n",
    "km = KMeans(n_clusters=3)\n",
    "merged_df['Cluster'] = km.fit_predict(normalized_metrics)\n",
    "\n",
    "# Display the DataFrame with the cluster assignments\n",
    "print(merged_df)\n"
   ]
  },
  {
   "cell_type": "code",
   "execution_count": 50,
   "metadata": {},
   "outputs": [
    {
     "data": {
      "image/png": "[encoded data removed]",
      "text/plain": [
       "<Figure size 640x480 with 1 Axes>"
      ]
     },
     "metadata": {},
     "output_type": "display_data"
    }
   ],
   "source": [
    "# Plot the clusters\n",
    "sns.scatterplot(x='duration', y='Total Data Usage', hue='Cluster', data=merged_df, palette='bright' )\n",
    "plt.title('K-Means Clustering of Customer Engagement')\n",
    "plt.xlabel('Session Duration')\n",
    "plt.ylabel('Total Data Usage')\n",
    "plt.show()"
   ]
  },
  {
   "cell_type": "markdown",
   "metadata": {},
   "source": [
    "What is the optimized value of k"
   ]
  },
  {
   "cell_type": "code",
   "execution_count": 51,
   "metadata": {},
   "outputs": [
    {
     "name": "stderr",
     "output_type": "stream",
     "text": [
      "c:\\Users\\hp\\.conda\\envs\\your_env_name\\Lib\\site-packages\\sklearn\\cluster\\_kmeans.py:1416: FutureWarning: The default value of `n_init` will change from 10 to 'auto' in 1.4. Set the value of `n_init` explicitly to suppress the warning\n",
      "  super()._check_params_vs_input(X, default_n_init=10)\n",
      "c:\\Users\\hp\\.conda\\envs\\your_env_name\\Lib\\site-packages\\sklearn\\cluster\\_kmeans.py:1416: FutureWarning: The default value of `n_init` will change from 10 to 'auto' in 1.4. Set the value of `n_init` explicitly to suppress the warning\n",
      "  super()._check_params_vs_input(X, default_n_init=10)\n",
      "c:\\Users\\hp\\.conda\\envs\\your_env_name\\Lib\\site-packages\\sklearn\\cluster\\_kmeans.py:1416: FutureWarning: The default value of `n_init` will change from 10 to 'auto' in 1.4. Set the value of `n_init` explicitly to suppress the warning\n",
      "  super()._check_params_vs_input(X, default_n_init=10)\n",
      "c:\\Users\\hp\\.conda\\envs\\your_env_name\\Lib\\site-packages\\sklearn\\cluster\\_kmeans.py:1416: FutureWarning: The default value of `n_init` will change from 10 to 'auto' in 1.4. Set the value of `n_init` explicitly to suppress the warning\n",
      "  super()._check_params_vs_input(X, default_n_init=10)\n",
      "c:\\Users\\hp\\.conda\\envs\\your_env_name\\Lib\\site-packages\\sklearn\\cluster\\_kmeans.py:1416: FutureWarning: The default value of `n_init` will change from 10 to 'auto' in 1.4. Set the value of `n_init` explicitly to suppress the warning\n",
      "  super()._check_params_vs_input(X, default_n_init=10)\n",
      "c:\\Users\\hp\\.conda\\envs\\your_env_name\\Lib\\site-packages\\sklearn\\cluster\\_kmeans.py:1416: FutureWarning: The default value of `n_init` will change from 10 to 'auto' in 1.4. Set the value of `n_init` explicitly to suppress the warning\n",
      "  super()._check_params_vs_input(X, default_n_init=10)\n",
      "c:\\Users\\hp\\.conda\\envs\\your_env_name\\Lib\\site-packages\\sklearn\\cluster\\_kmeans.py:1416: FutureWarning: The default value of `n_init` will change from 10 to 'auto' in 1.4. Set the value of `n_init` explicitly to suppress the warning\n",
      "  super()._check_params_vs_input(X, default_n_init=10)\n",
      "c:\\Users\\hp\\.conda\\envs\\your_env_name\\Lib\\site-packages\\sklearn\\cluster\\_kmeans.py:1416: FutureWarning: The default value of `n_init` will change from 10 to 'auto' in 1.4. Set the value of `n_init` explicitly to suppress the warning\n",
      "  super()._check_params_vs_input(X, default_n_init=10)\n",
      "c:\\Users\\hp\\.conda\\envs\\your_env_name\\Lib\\site-packages\\sklearn\\cluster\\_kmeans.py:1416: FutureWarning: The default value of `n_init` will change from 10 to 'auto' in 1.4. Set the value of `n_init` explicitly to suppress the warning\n",
      "  super()._check_params_vs_input(X, default_n_init=10)\n"
     ]
    }
   ],
   "source": [
    "#Using elbow method\n",
    "k_range=range(1,10)\n",
    "sum_square_error=[]\n",
    "for k in k_range:\n",
    "    km=KMeans(n_clusters=k)\n",
    "    km.fit_predict(normalized_metrics)\n",
    "    sum_square_error.append(km.inertia_)"
   ]
  },
  {
   "cell_type": "code",
   "execution_count": 52,
   "metadata": {},
   "outputs": [
    {
     "data": {
      "text/plain": [
       "[582.7488332296591,\n",
       " 260.6051460879765,\n",
       " 159.98865105447675,\n",
       " 115.49717733116987,\n",
       " 88.62857586728146,\n",
       " 70.32790803020707,\n",
       " 57.80828149888516,\n",
       " 49.49410778111433,\n",
       " 43.16567965546042]"
      ]
     },
     "execution_count": 52,
     "metadata": {},
     "output_type": "execute_result"
    }
   ],
   "source": [
    "sum_square_error"
   ]
  },
  {
   "cell_type": "code",
   "execution_count": 53,
   "metadata": {},
   "outputs": [
    {
     "data": {
      "text/plain": [
       "[<matplotlib.lines.Line2D at 0x1c49b1175f0>]"
      ]
     },
     "execution_count": 53,
     "metadata": {},
     "output_type": "execute_result"
    },
    {
     "data": {
      "image/png": "[encoded data removed]",
      "text/plain": [
       "<Figure size 640x480 with 1 Axes>"
      ]
     },
     "metadata": {},
     "output_type": "display_data"
    }
   ],
   "source": [
    "plt.xlabel('K')\n",
    "plt.ylabel('sum of square error')\n",
    "plt.plot(k_range,sum_square_error)\n"
   ]
  }
 ],
 "metadata": {
  "kernelspec": {
   "display_name": "your_env_name",
   "language": "python",
   "name": "python3"
  },
  "language_info": {
   "codemirror_mode": {
    "name": "ipython",
    "version": 3
   },
   "file_extension": ".py",
   "mimetype": "text/x-python",
   "name": "python",
   "nbconvert_exporter": "python",
   "pygments_lexer": "ipython3",
   "version": "3.12.0"
  }
 },
 "nbformat": 4,
 "nbformat_minor": 2
}
